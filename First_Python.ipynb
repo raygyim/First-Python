{
  "nbformat": 4,
  "nbformat_minor": 0,
  "metadata": {
    "colab": {
      "provenance": [],
      "authorship_tag": "ABX9TyPZ0fueBSGxv6MvXjpbGvIF",
      "include_colab_link": true
    },
    "kernelspec": {
      "name": "python3",
      "display_name": "Python 3"
    },
    "language_info": {
      "name": "python"
    }
  },
  "cells": [
    {
      "cell_type": "markdown",
      "metadata": {
        "id": "view-in-github",
        "colab_type": "text"
      },
      "source": [
        "<a href=\"https://colab.research.google.com/github/raygyim/First-Python/blob/main/First_Python.ipynb\" target=\"_parent\"><img src=\"https://colab.research.google.com/assets/colab-badge.svg\" alt=\"Open In Colab\"/></a>"
      ]
    },
    {
      "cell_type": "code",
      "execution_count": null,
      "metadata": {
        "colab": {
          "base_uri": "https://localhost:8080/"
        },
        "id": "ejsun-6C8Jg2",
        "outputId": "1297833b-e8bb-4281-c881-0e3e02b71e52"
      },
      "outputs": [
        {
          "output_type": "stream",
          "name": "stdout",
          "text": [
            "Hello World\n"
          ]
        }
      ],
      "source": [
        "print(\"Hello World\")"
      ]
    },
    {
      "cell_type": "code",
      "source": [
        "#comentario\n",
        "#trazendo biblioteca capaz de realizar requisições\n",
        "import requests\n",
        "#criei uma variável chamada url que armazena o endereço com as info que desejo buscar\n",
        "url = 'https://raw.githubusercontent.com/guilhermeonrails/api-imersao-ia/main/words.json'\n",
        "#faço a requisição e armazeno em uma variável chamada resposta\n",
        "resposta = requests.get(url)\n",
        "#transforma a resposta em um JSON\n",
        "data = resposta.json()\n",
        "len(data)"
      ],
      "metadata": {
        "colab": {
          "base_uri": "https://localhost:8080/"
        },
        "id": "Y2dfZwAoF3Od",
        "outputId": "0b6cb05d-44de-4344-a465-5e62bbdd12a5"
      },
      "execution_count": null,
      "outputs": [
        {
          "output_type": "execute_result",
          "data": {
            "text/plain": [
              "43"
            ]
          },
          "metadata": {},
          "execution_count": 20
        }
      ]
    },
    {
      "cell_type": "code",
      "source": [
        "type(data)"
      ],
      "metadata": {
        "colab": {
          "base_uri": "https://localhost:8080/"
        },
        "id": "0fUf3NTJLVA4",
        "outputId": "1dbdc19d-2053-4a49-f1d6-e7927a467de6"
      },
      "execution_count": null,
      "outputs": [
        {
          "output_type": "execute_result",
          "data": {
            "text/plain": [
              "list"
            ]
          },
          "metadata": {},
          "execution_count": 6
        }
      ]
    },
    {
      "cell_type": "code",
      "source": [
        "# vendo como podemos acessar cada uma das informações\n",
        "# toda lista em python começa com o índica 0...\n",
        "data[1]"
      ],
      "metadata": {
        "colab": {
          "base_uri": "https://localhost:8080/"
        },
        "id": "66oNMml8L6tN",
        "outputId": "3758566a-2934-4e90-f3b5-99d2a500718d"
      },
      "execution_count": null,
      "outputs": [
        {
          "output_type": "execute_result",
          "data": {
            "text/plain": [
              "{'palavra': 'javascript',\n",
              " 'dica': 'criar interatividade em páginas web e desenvolver aplicações front-end.'}"
            ]
          },
          "metadata": {},
          "execution_count": 7
        }
      ]
    },
    {
      "cell_type": "code",
      "source": [
        "import random\n",
        "#criou uma variável chamada valor secreto que armazena uma tecnologia aleatória da lista\n",
        "valor_secreto = random.choice(data)\n",
        "#variável para armazenar apenas a palavra\n",
        "palavra_secreta = valor_secreto['palavra']\n",
        "#variável para armazenar apenas a dica\n",
        "dica = valor_secreto['dica']\n",
        "#mostrou na tela quantas letras a palavra secreta possui e a dica\n",
        "# o f é capaz de juntar palavras e variáveis (o texto que escrevemos e as variáveis que atribuímos anteriormente)\n",
        "print(f'A palavra secreta tem {len(palavra_secreta)} letras')\n",
        "print(f'A dica é -> {dica}')\n",
        "#receber o chute ou palpite da tecnologia\n",
        "chute = input('O que você acha que é:')\n",
        "if chute == palavra_secreta:\n",
        "    print('Você acertou!')\n",
        "else:\n",
        "    print(f'Você errou! A palavra era {palavra_secreta}')\n",
        "\n",
        "\n"
      ],
      "metadata": {
        "colab": {
          "base_uri": "https://localhost:8080/"
        },
        "id": "VakEZTwKMA6F",
        "outputId": "e1044891-4917-406f-e6b6-75e8a50a10cc"
      },
      "execution_count": null,
      "outputs": [
        {
          "output_type": "stream",
          "name": "stdout",
          "text": [
            "A palavra secreta tem 9 letras\n",
            "A dica é -> criar dispositivos e projetos de iot (internet das coisas) com baixo custo.\n",
            "O que você acha que é:python\n",
            "Você errou! A palavra era raspberry\n"
          ]
        }
      ]
    },
    {
      "cell_type": "code",
      "source": [],
      "metadata": {
        "id": "fIUMjFtjd3-s"
      },
      "execution_count": null,
      "outputs": []
    }
  ]
}